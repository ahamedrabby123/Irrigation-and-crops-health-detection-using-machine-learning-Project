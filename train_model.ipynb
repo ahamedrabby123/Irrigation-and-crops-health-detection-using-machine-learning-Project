{
 "cells": [
  {
   "cell_type": "code",
   "execution_count": null,
   "id": "0a74dda7",
   "metadata": {},
   "outputs": [],
   "source": [
    "\n",
    "import pandas as pd\n",
    "import numpy as np\n",
    "from sklearn.model_selection import train_test_split\n",
    "from sklearn.ensemble import RandomForestClassifier\n",
    "from sklearn.preprocessing import LabelEncoder\n",
    "import pickle\n",
    "    "
   ]
  },
  {
   "cell_type": "code",
   "execution_count": null,
   "id": "ab214fd5",
   "metadata": {},
   "outputs": [],
   "source": [
    "\n",
    "# Load dataset\n",
    "df = pd.read_csv(\"irrigation_crop_health_dataset.csv\")\n",
    "\n",
    "# Encode categorical data (Crop_Type and Crop_Health)\n",
    "label_enc = LabelEncoder()\n",
    "df['Crop_Type'] = label_enc.fit_transform(df['Crop_Type'])\n",
    "df['Crop_Health'] = label_enc.fit_transform(df['Crop_Health'])\n",
    "    "
   ]
  },
  {
   "cell_type": "code",
   "execution_count": null,
   "id": "4180a886",
   "metadata": {},
   "outputs": [],
   "source": [
    "\n",
    "# Features and targets\n",
    "X = df[['Temperature', 'Humidity', 'Soil_Moisture', 'Rainfall', 'Crop_Type']]\n",
    "y_irrigation = df['Irrigation_Required']\n",
    "y_health = df['Crop_Health']\n",
    "    "
   ]
  },
  {
   "cell_type": "code",
   "execution_count": null,
   "id": "1fd631d4",
   "metadata": {},
   "outputs": [],
   "source": [
    "\n",
    "# Train-test split\n",
    "X_train, X_test, y_train_irrigation, y_test_irrigation = train_test_split(X, y_irrigation, test_size=0.2, random_state=42)\n",
    "X_train, X_test, y_train_health, y_test_health = train_test_split(X, y_health, test_size=0.2, random_state=42)\n",
    "    "
   ]
  },
  {
   "cell_type": "code",
   "execution_count": null,
   "id": "75323b62",
   "metadata": {},
   "outputs": [],
   "source": [
    "\n",
    "# Train models\n",
    "model_irrigation = RandomForestClassifier(n_estimators=100, random_state=42)\n",
    "model_health = RandomForestClassifier(n_estimators=100, random_state=42)\n",
    "\n",
    "model_irrigation.fit(X_train, y_train_irrigation)\n",
    "model_health.fit(X_train, y_train_health)\n",
    "    "
   ]
  },
  {
   "cell_type": "code",
   "execution_count": null,
   "id": "5e23cfe9",
   "metadata": {},
   "outputs": [],
   "source": [
    "\n",
    "# Save models\n",
    "with open(\"irrigation_model.pkl\", 'wb') as f:\n",
    "    pickle.dump(model_irrigation, f)\n",
    "\n",
    "with open(\"health_model.pkl\", 'wb') as f:\n",
    "    pickle.dump(model_health, f)\n",
    "\n",
    "print(\"Models trained and saved successfully.\")\n",
    "    "
   ]
  }
 ],
 "metadata": {},
 "nbformat": 4,
 "nbformat_minor": 5
}
